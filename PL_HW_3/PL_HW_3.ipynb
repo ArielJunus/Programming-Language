{
 "cells": [
  {
   "cell_type": "code",
   "execution_count": 375,
   "id": "33cd27b0",
   "metadata": {},
   "outputs": [],
   "source": [
    "import requests \n",
    "from bs4 import BeautifulSoup\n",
    "import csv\n",
    "import json "
   ]
  },
  {
   "cell_type": "code",
   "execution_count": 376,
   "id": "078e8b66",
   "metadata": {},
   "outputs": [
    {
     "data": {
      "text/plain": [
       "<Response [200]>"
      ]
     },
     "execution_count": 376,
     "metadata": {},
     "output_type": "execute_result"
    }
   ],
   "source": [
    "# Define the URL of the website to scrape\n",
    "url = 'http://quotes.toscrape.com'\n",
    "\n",
    "test_url = url\n",
    "response_test = requests.get(test_url)\n",
    "response_test"
   ]
  },
  {
   "cell_type": "code",
   "execution_count": 377,
   "id": "9ca83a3d",
   "metadata": {},
   "outputs": [
    {
     "name": "stdout",
     "output_type": "stream",
     "text": [
      "“The world as we have created it is a process of our thinking. It cannot be changed without changing our thinking.”\n"
     ]
    }
   ],
   "source": [
    "quotes = soup.find_all('span', itemprop='text')\n",
    "\n",
    "if quotes:  # Check if the list is not empty\n",
    "    first_quote_text = quotes[0].text\n",
    "    print(first_quote_text)\n",
    "else:\n",
    "    print(\"No quotes found.\")"
   ]
  },
  {
   "cell_type": "code",
   "execution_count": 378,
   "id": "4b7ba703",
   "metadata": {},
   "outputs": [
    {
     "name": "stdout",
     "output_type": "stream",
     "text": [
      "Albert Einstein\n"
     ]
    }
   ],
   "source": [
    "author = soup.find_all('small', itemprop='author')\n",
    "\n",
    "if author:  # Check if the list is not empty\n",
    "    first_author_text = author[0].text\n",
    "    print(first_author_text)\n",
    "else:\n",
    "    print(\"No author found.\")"
   ]
  },
  {
   "cell_type": "code",
   "execution_count": 379,
   "id": "85ecb170",
   "metadata": {},
   "outputs": [
    {
     "name": "stdout",
     "output_type": "stream",
     "text": [
      "Quote: “The world as we have created it is a process of our thinking. It cannot be changed without changing our thinking.”\n",
      "Author: Albert Einstein\n",
      "\n",
      "\n",
      "Quote: “It is our choices, Harry, that show what we truly are, far more than our abilities.”\n",
      "Author: J.K. Rowling\n",
      "\n",
      "\n",
      "Quote: “There are only two ways to live your life. One is as though nothing is a miracle. The other is as though everything is a miracle.”\n",
      "Author: Albert Einstein\n",
      "\n",
      "\n",
      "Quote: “The person, be it gentleman or lady, who has not pleasure in a good novel, must be intolerably stupid.”\n",
      "Author: Jane Austen\n",
      "\n",
      "\n",
      "Quote: “Imperfection is beauty, madness is genius and it's better to be absolutely ridiculous than absolutely boring.”\n",
      "Author: Marilyn Monroe\n",
      "\n",
      "\n",
      "Quote: “Try not to become a man of success. Rather become a man of value.”\n",
      "Author: Albert Einstein\n",
      "\n",
      "\n",
      "Quote: “It is better to be hated for what you are than to be loved for what you are not.”\n",
      "Author: André Gide\n",
      "\n",
      "\n",
      "Quote: “I have not failed. I've just found 10,000 ways that won't work.”\n",
      "Author: Thomas A. Edison\n",
      "\n",
      "\n",
      "Quote: “A woman is like a tea bag; you never know how strong it is until it's in hot water.”\n",
      "Author: Eleanor Roosevelt\n",
      "\n",
      "\n",
      "Quote: “A day without sunshine is like, you know, night.”\n",
      "Author: Steve Martin\n",
      "\n",
      "\n"
     ]
    }
   ],
   "source": [
    "# Send an HTTP GET request to the website\n",
    "response = requests.get(url)\n",
    "\n",
    "if response.status_code == 200:\n",
    "    # Parse the HTML content of the page using BeautifulSoup\n",
    "    soup = BeautifulSoup(response.text, 'html.parser')\n",
    "\n",
    "    # Iterate through the quotes and authors\n",
    "    for quote, author in zip(quotes, authors):\n",
    "        print(\"Quote:\", quote.text)\n",
    "        print(\"Author:\", author.text)\n",
    "        print(\"\\n\")\n",
    "else:\n",
    "     print(\"Failed to retrieve the website. Status code:\", response.status_code)"
   ]
  },
  {
   "cell_type": "code",
   "execution_count": 380,
   "id": "88d5f456",
   "metadata": {},
   "outputs": [],
   "source": [
    "# Initialize a list to store the scraped data\n",
    "data = []\n",
    "\n",
    "# Find and extract quotes and authors\n",
    "for quotes, author in zip(quotes, authors):\n",
    "        data.append({'Quote': quotes.text, 'Author': author.text})\n",
    "    "
   ]
  },
  {
   "cell_type": "code",
   "execution_count": 381,
   "id": "26d09550",
   "metadata": {},
   "outputs": [],
   "source": [
    "#save data as a csvfile\n",
    "\n",
    "with open('quotes.csv', 'w', newline='',encoding='utf-8') as csvfile:\n",
    "    fieldnames = ['Quote', 'Author']\n",
    "    writer = csv.DictWriter(csvfile, fieldnames=fieldnames)\n",
    "\n",
    "    # Write the header row\n",
    "    writer.writeheader()\n",
    "\n",
    "    # Write the data\n",
    "    writer.writerows(data)"
   ]
  },
  {
   "cell_type": "code",
   "execution_count": 382,
   "id": "629deb7f",
   "metadata": {},
   "outputs": [
    {
     "name": "stdout",
     "output_type": "stream",
     "text": [
      "{'Quote': '“The world as we have created it is a process of our thinking. It cannot be changed without changing our thinking.”', 'Author': 'Albert Einstein'}\n",
      "{'Quote': '“It is our choices, Harry, that show what we truly are, far more than our abilities.”', 'Author': 'J.K. Rowling'}\n",
      "{'Quote': '“There are only two ways to live your life. One is as though nothing is a miracle. The other is as though everything is a miracle.”', 'Author': 'Albert Einstein'}\n",
      "{'Quote': '“The person, be it gentleman or lady, who has not pleasure in a good novel, must be intolerably stupid.”', 'Author': 'Jane Austen'}\n",
      "{'Quote': \"“Imperfection is beauty, madness is genius and it's better to be absolutely ridiculous than absolutely boring.”\", 'Author': 'Marilyn Monroe'}\n",
      "{'Quote': '“Try not to become a man of success. Rather become a man of value.”', 'Author': 'Albert Einstein'}\n",
      "{'Quote': '“It is better to be hated for what you are than to be loved for what you are not.”', 'Author': 'André Gide'}\n",
      "{'Quote': \"“I have not failed. I've just found 10,000 ways that won't work.”\", 'Author': 'Thomas A. Edison'}\n",
      "{'Quote': \"“A woman is like a tea bag; you never know how strong it is until it's in hot water.”\", 'Author': 'Eleanor Roosevelt'}\n",
      "{'Quote': '“A day without sunshine is like, you know, night.”', 'Author': 'Steve Martin'}\n"
     ]
    }
   ],
   "source": [
    "#checking if the csvfile is save properly or not\n",
    "\n",
    "with open('quotes.csv', 'r', encoding='utf-8') as csvfile:\n",
    "    reader = csv.DictReader(csvfile)\n",
    "\n",
    "    for row in reader:\n",
    "        print(row)"
   ]
  },
  {
   "cell_type": "code",
   "execution_count": 383,
   "id": "7c3fe76c",
   "metadata": {},
   "outputs": [],
   "source": [
    "#save data as a json\n",
    "with open('quotes.json', 'w', encoding='utf-8') as jsonfile:\n",
    "        json.dump(data, jsonfile, ensure_ascii=False, indent=4)"
   ]
  },
  {
   "cell_type": "code",
   "execution_count": 384,
   "id": "3e7fca3a",
   "metadata": {
    "scrolled": true
   },
   "outputs": [
    {
     "name": "stdout",
     "output_type": "stream",
     "text": [
      "[{'Quote': '“The world as we have created it is a process of our thinking. It cannot be changed without changing our thinking.”', 'Author': 'Albert Einstein'}, {'Quote': '“It is our choices, Harry, that show what we truly are, far more than our abilities.”', 'Author': 'J.K. Rowling'}, {'Quote': '“There are only two ways to live your life. One is as though nothing is a miracle. The other is as though everything is a miracle.”', 'Author': 'Albert Einstein'}, {'Quote': '“The person, be it gentleman or lady, who has not pleasure in a good novel, must be intolerably stupid.”', 'Author': 'Jane Austen'}, {'Quote': \"“Imperfection is beauty, madness is genius and it's better to be absolutely ridiculous than absolutely boring.”\", 'Author': 'Marilyn Monroe'}, {'Quote': '“Try not to become a man of success. Rather become a man of value.”', 'Author': 'Albert Einstein'}, {'Quote': '“It is better to be hated for what you are than to be loved for what you are not.”', 'Author': 'André Gide'}, {'Quote': \"“I have not failed. I've just found 10,000 ways that won't work.”\", 'Author': 'Thomas A. Edison'}, {'Quote': \"“A woman is like a tea bag; you never know how strong it is until it's in hot water.”\", 'Author': 'Eleanor Roosevelt'}, {'Quote': '“A day without sunshine is like, you know, night.”', 'Author': 'Steve Martin'}]\n"
     ]
    }
   ],
   "source": [
    "#checking if the jsonfile is save properly or not\n",
    "with open('quotes.json', 'r', encoding='utf-8') as jsonfile:\n",
    "    data = json.load(jsonfile)\n",
    "    print(data)"
   ]
  }
 ],
 "metadata": {
  "kernelspec": {
   "display_name": "Python 3 (ipykernel)",
   "language": "python",
   "name": "python3"
  },
  "language_info": {
   "codemirror_mode": {
    "name": "ipython",
    "version": 3
   },
   "file_extension": ".py",
   "mimetype": "text/x-python",
   "name": "python",
   "nbconvert_exporter": "python",
   "pygments_lexer": "ipython3",
   "version": "3.11.4"
  }
 },
 "nbformat": 4,
 "nbformat_minor": 5
}
